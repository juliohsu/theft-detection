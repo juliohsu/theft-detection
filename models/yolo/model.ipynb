{
 "cells": [
  {
   "cell_type": "code",
   "execution_count": 2,
   "metadata": {},
   "outputs": [],
   "source": [
    "from ultralytics import YOLO\n",
    "from roboflow import Roboflow"
   ]
  },
  {
   "cell_type": "code",
   "execution_count": null,
   "metadata": {},
   "outputs": [],
   "source": [
    "# retrieve dataset\n",
    "\n",
    "# recommend to use roboflow shoplifting dataset \"https://universe.roboflow.com/jkk/cc-tv-footage-annotation-b8-2bj8o\"\n",
    "# where you get code from roboflow something like, just an example:\n",
    "\n",
    "\"\"\" rf = Roboflow(api_key=\"**************\")\n",
    "project = rf.workspace(\"********\").project(\"theft-detection-vm39l\")\n",
    "version = project.version(1)\n",
    "dataset = version.download(\"yolov11\")  \"\"\""
   ]
  },
  {
   "cell_type": "code",
   "execution_count": null,
   "metadata": {},
   "outputs": [],
   "source": [
    "# define yolo version\n",
    "model = YOLO(\"yolo11n.pt\") # choose your yolo model here\n",
    "\n",
    "# train your model\n",
    "model.train(\n",
    "    data=\".../data.yaml\", # put your data.yaml path url here, \n",
    "    epochs=30,  # training epochs number\n",
    "    imgsz=640, # training image size\n",
    "    device=0 #check firstly that if you a cuda in your device\n",
    ")"
   ]
  },
  {
   "cell_type": "code",
   "execution_count": null,
   "metadata": {},
   "outputs": [],
   "source": [
    "# model evaluation\n",
    "model.val(data=\".../data.yaml\") # put your data.yaml path url here"
   ]
  },
  {
   "cell_type": "code",
   "execution_count": null,
   "metadata": {},
   "outputs": [],
   "source": [
    "# final model to test with your desire images/videos\n",
    "model = YOLO(\".../best.pt\") # put your best.pt path url here, that originated from the model training .../runs file\n",
    "results = model(\".../image.png\") # and test it out with random image from the website to test your trained model or from the local src file\n",
    "results[0].show() # show the model predict result out"
   ]
  }
 ],
 "metadata": {
  "kernelspec": {
   "display_name": "Python 3",
   "language": "python",
   "name": "python3"
  },
  "language_info": {
   "codemirror_mode": {
    "name": "ipython",
    "version": 3
   },
   "file_extension": ".py",
   "mimetype": "text/x-python",
   "name": "python",
   "nbconvert_exporter": "python",
   "pygments_lexer": "ipython3",
   "version": "3.12.6"
  }
 },
 "nbformat": 4,
 "nbformat_minor": 2
}
