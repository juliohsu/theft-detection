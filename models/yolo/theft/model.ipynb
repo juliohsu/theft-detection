{
 "cells": [
  {
   "cell_type": "code",
   "execution_count": 2,
   "metadata": {},
   "outputs": [],
   "source": [
    "from ultralytics import YOLO\n",
    "from roboflow import Roboflow"
   ]
  },
  {
   "cell_type": "code",
   "execution_count": null,
   "metadata": {},
   "outputs": [],
   "source": [
    "# 100-full-filter\n",
    "\"\"\" rf = Roboflow(api_key=\"xxxxxxx\")\n",
    "project = rf.workspace(\"cyberrobbery\").project(\"theft-detection-vm39l\")\n",
    "version = project.version(1)\n",
    "dataset = version.download(\"yolov11\") \"\"\"\n",
    "\n",
    "# 145-full-filter\n",
    "rf = Roboflow(api_key=\"xxxxxxx\")\n",
    "project = rf.workspace(\"cyberrobbery\").project(\"theft-detection-vm39l\")\n",
    "version = project.version(2)\n",
    "dataset = version.download(\"yolov11\")\n",
    "                "
   ]
  },
  {
   "cell_type": "code",
   "execution_count": null,
   "metadata": {},
   "outputs": [],
   "source": [
    "yolo_model = YOLO(\"yolo11n.pt\")\n",
    "\n",
    "yolo_model.train(\n",
    "    data=\".../data.yaml\",\n",
    "    epochs=30,\n",
    "    imgsz=640,\n",
    "    device=0\n",
    ")"
   ]
  },
  {
   "cell_type": "code",
   "execution_count": null,
   "metadata": {},
   "outputs": [],
   "source": [
    "yolo_model.val(data=\".../data.yaml\")"
   ]
  },
  {
   "cell_type": "code",
   "execution_count": null,
   "metadata": {},
   "outputs": [],
   "source": [
    "model = YOLO(\"\")\n",
    "results = model(\".../valid/images/Pitti-m-str-RF18-8382_jpg.rf.be15f4de8ca0f3cbe9698d7408459de2.jpg\")\n",
    "results[0].show()"
   ]
  }
 ],
 "metadata": {
  "kernelspec": {
   "display_name": "Python 3",
   "language": "python",
   "name": "python3"
  },
  "language_info": {
   "codemirror_mode": {
    "name": "ipython",
    "version": 3
   },
   "file_extension": ".py",
   "mimetype": "text/x-python",
   "name": "python",
   "nbconvert_exporter": "python",
   "pygments_lexer": "ipython3",
   "version": "3.12.6"
  }
 },
 "nbformat": 4,
 "nbformat_minor": 2
}
